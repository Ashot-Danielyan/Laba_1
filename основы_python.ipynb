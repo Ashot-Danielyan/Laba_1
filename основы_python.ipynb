{
  "cells": [
    {
      "cell_type": "markdown",
      "metadata": {
        "id": "M-DGa20PaHnu"
      },
      "source": [
        "# Задача 1\n",
        "Написать функцию на вход которой подается строка, состоящая из латинских букв.\n",
        "Функция должна вернуть количество гласных букв (a, e, i, o, u) в этой строке. Написать тесты для кода"
      ]
    },
    {
      "cell_type": "code",
      "execution_count": 18,
      "metadata": {
        "id": "XvX8X_JJ6PCb"
      },
      "outputs": [
        {
          "name": "stderr",
          "output_type": "stream",
          "text": [
            "test_all_vowels (__main__.TestCountVowels) ... ok\n",
            "test_empty_string (__main__.TestCountVowels) ... ok\n",
            "test_mixed_case (__main__.TestCountVowels) ... ok\n",
            "test_mixed_letters (__main__.TestCountVowels) ... ok\n",
            "test_no_vowels (__main__.TestCountVowels) ... ok\n",
            "test_uppercase_consonants (__main__.TestCountVowels) ... ok\n",
            "test_empty_string (__main__.TestIsUniqueFunction) ... ok\n",
            "test_non_unique_string (__main__.TestIsUniqueFunction) ... ok\n",
            "test_single_char (__main__.TestIsUniqueFunction) ... ok\n",
            "test_string_with_repeating_spaces (__main__.TestIsUniqueFunction) ... ok\n",
            "test_string_with_spaces (__main__.TestIsUniqueFunction) ... ok\n",
            "test_unique_string (__main__.TestIsUniqueFunction) ... ok\n",
            "\n",
            "----------------------------------------------------------------------\n",
            "Ran 12 tests in 0.012s\n",
            "\n",
            "OK\n"
          ]
        }
      ],
      "source": [
        "import unittest\n",
        "\n",
        "def count_vowels(s: str) -> int:\n",
        "    vowels = \"aeiouAEIOU\"# Строка, содержащая все гласные\n",
        "\n",
        "    count = 0# Переменная для хранения количества гласных \n",
        "\n",
        "    for char in s:# Проходим по каждому символу строки s.\n",
        "        if char in vowels:# Если текущий символ находится в строке vowels           \n",
        "            count += 1 # Увеличиваем счётчик гласных на 1.\n",
        "\n",
        "    return count # Возвращаем итоговое количество гласных в строке.\n",
        "\n",
        "\n",
        "class TestCountVowels(unittest.TestCase):\n",
        "    def test_empty_string(self):\n",
        "        self.assertEqual(count_vowels(\"\"), 0)\n",
        "    \n",
        "    def test_no_vowels(self):\n",
        "        self.assertEqual(count_vowels(\"bcdfg\"), 0)\n",
        "    \n",
        "    def test_all_vowels(self):\n",
        "        self.assertEqual(count_vowels(\"aeiou\"), 5)\n",
        "    \n",
        "    def test_mixed_case(self):\n",
        "        self.assertEqual(count_vowels(\"AeIoU\"), 5)\n",
        "    \n",
        "    def test_mixed_letters(self):\n",
        "        self.assertEqual(count_vowels(\"hello world\"), 3)\n",
        "    \n",
        "    def test_uppercase_consonants(self):\n",
        "        self.assertEqual(count_vowels(\"BCDFGHJKLMNPQRSTVWXYZ\"), 0)\n",
        "\n",
        "\n",
        "    unittest.main(argv=[''], verbosity=2, exit=False)"
      ]
    },
    {
      "cell_type": "markdown",
      "metadata": {
        "id": "t2ClV_Y0bbr6"
      },
      "source": [
        "# Задача 2\n",
        "Написать функцию на вход, которой подается строка. Функция должна вернуть true, если\n",
        "каждый символ в строке встречается только 1 раз, иначе должна вернуть false. Написать тесты для кода"
      ]
    },
    {
      "cell_type": "code",
      "execution_count": 23,
      "metadata": {
        "id": "FppbECao6VIz"
      },
      "outputs": [
        {
          "name": "stderr",
          "output_type": "stream",
          "text": [
            "test_count_bits (__main__.TestCountOnesFunction) ... ok\n",
            "test_all_vowels (__main__.TestCountVowels) ... ok\n",
            "test_empty_string (__main__.TestCountVowels) ... ok\n",
            "test_mixed_case (__main__.TestCountVowels) ... ok\n",
            "test_mixed_letters (__main__.TestCountVowels) ... ok\n",
            "test_no_vowels (__main__.TestCountVowels) ... ok\n",
            "test_uppercase_consonants (__main__.TestCountVowels) ... ok\n",
            "test_empty_string (__main__.TestIsUniqueFunction) ... ok\n",
            "test_non_unique_string (__main__.TestIsUniqueFunction) ... ok\n",
            "test_single_char (__main__.TestIsUniqueFunction) ... ok\n",
            "test_string_with_repeating_spaces (__main__.TestIsUniqueFunction) ... ok\n",
            "test_string_with_spaces (__main__.TestIsUniqueFunction) ... ok\n",
            "test_unique_string (__main__.TestIsUniqueFunction) ... ok\n",
            "\n",
            "----------------------------------------------------------------------\n",
            "Ran 13 tests in 0.012s\n",
            "\n",
            "OK\n"
          ]
        },
        {
          "data": {
            "text/plain": [
              "<unittest.main.TestProgram at 0x14f4ad9de10>"
            ]
          },
          "execution_count": 23,
          "metadata": {},
          "output_type": "execute_result"
        }
      ],
      "source": [
        "import unittest\n",
        "\n",
        "def is_unique(s: str) -> bool:\n",
        "    # Создаем множество для хранения уникальных символов\n",
        "    seen = set()\n",
        "    \n",
        "    # Проходим по каждому символу строки\n",
        "    for char in s:\n",
        "        # Если символ уже есть в множестве, значит, он повторяется\n",
        "        if char in seen:\n",
        "            return False\n",
        "        # Добавляем символ в множество\n",
        "        seen.add(char)\n",
        "    \n",
        "    # Если цикл завершился без возвращения False, все символы уникальны\n",
        "    return True\n",
        "\n",
        "class TestIsUniqueFunction(unittest.TestCase):\n",
        "    \n",
        "    def test_unique_string(self):\n",
        "        self.assertTrue(is_unique(\"abcdefg\"))\n",
        "    \n",
        "    def test_non_unique_string(self):\n",
        "        self.assertFalse(is_unique(\"hello\"))\n",
        "    \n",
        "    def test_empty_string(self):\n",
        "        self.assertTrue(is_unique(\"\"))\n",
        "    \n",
        "    def test_single_char(self):\n",
        "        self.assertTrue(is_unique(\"a\"))\n",
        "    \n",
        "    def test_string_with_spaces(self):\n",
        "        self.assertTrue(is_unique(\"a bc\"))\n",
        "    \n",
        "    def test_string_with_repeating_spaces(self):\n",
        "        self.assertFalse(is_unique(\"a  b\"))\n",
        "\n",
        "unittest.main(argv=[''], verbosity=2, exit=False)"
      ]
    },
    {
      "cell_type": "markdown",
      "metadata": {
        "id": "udRiIK1cdt6E"
      },
      "source": [
        "# Задача 3\n",
        "Написать функцию, которая принимает положительное число и возвращает количество\n",
        "бит равных 1 в этом числе. Написать тесты для кода"
      ]
    },
    {
      "cell_type": "code",
      "execution_count": 27,
      "metadata": {
        "id": "6tkfDJRz6dp_"
      },
      "outputs": [
        {
          "name": "stderr",
          "output_type": "stream",
          "text": [
            "test_count_bits (__main__.TestCountOnesFunction) ... ok\n",
            "test_all_vowels (__main__.TestCountVowels) ... ok\n",
            "test_empty_string (__main__.TestCountVowels) ... ok\n",
            "test_mixed_case (__main__.TestCountVowels) ... ok\n",
            "test_mixed_letters (__main__.TestCountVowels) ... ok\n",
            "test_no_vowels (__main__.TestCountVowels) ... ok\n",
            "test_uppercase_consonants (__main__.TestCountVowels) ... ok\n",
            "test_empty_string (__main__.TestIsUniqueFunction) ... ok\n",
            "test_non_unique_string (__main__.TestIsUniqueFunction) ... ok\n",
            "test_single_char (__main__.TestIsUniqueFunction) ... ok\n",
            "test_string_with_repeating_spaces (__main__.TestIsUniqueFunction) ... ok\n",
            "test_string_with_spaces (__main__.TestIsUniqueFunction) ... ok\n",
            "test_unique_string (__main__.TestIsUniqueFunction) ... ok\n",
            "\n",
            "----------------------------------------------------------------------\n",
            "Ran 13 tests in 0.016s\n",
            "\n",
            "OK\n"
          ]
        },
        {
          "data": {
            "text/plain": [
              "<unittest.main.TestProgram at 0x14f49d34fd0>"
            ]
          },
          "execution_count": 27,
          "metadata": {},
          "output_type": "execute_result"
        }
      ],
      "source": [
        "import unittest\n",
        "\n",
        "def count_bits(n):\n",
        "    return bin(n).count('1')\n",
        "\n",
        "class TestCountOnesFunction(unittest.TestCase):\n",
        "    \n",
        "    def test_count_bits(self):\n",
        "        self.assertEqual(count_bits(5), 2)  # 5 в двоичном: 101\n",
        "        self.assertEqual(count_bits(10), 2)  # 10 в двоичном: 1010 \n",
        "        self.assertEqual(count_bits(15), 4)  # 15 в двоичном: 1111 \n",
        "        self.assertEqual(count_bits(0), 0)   # 0 в двоичном: 0 \n",
        "        self.assertEqual(count_bits(1), 1)   # 1 в двоичном: 1 \n",
        "        self.assertEqual(count_bits(2), 1)   # 2 в двоичном: 10 \n",
        "\n",
        "unittest.main(argv=[''], verbosity=2, exit=False)"
      ]
    },
    {
      "cell_type": "markdown",
      "metadata": {
        "id": "26dDUz-Ae17N"
      },
      "source": [
        "# Задача 4\n",
        "Написать функцию, которая принимает положительное число. Функция должна вернуть то,\n",
        "сколько раз необходимо перемножать цифры числа или результат перемножения, чтобы\n",
        "получилось число состоящее из одной цифры.\n",
        "Например, для входного числа:\n",
        "· 39 функция должна вернуть 3, так как 3*9=27 => 2*7=14 => 1*4=4\n",
        "· 4 функция должна вернуть 0, так как число уже состоит из одной цифры\n",
        "· 999 функция должна вернуть 4, так как 9*9*9=729 => 7*2*9=126 => 1*2*6=12 =>\n",
        "1*2=2. Написать тесты для кода"
      ]
    },
    {
      "cell_type": "code",
      "execution_count": 31,
      "metadata": {
        "id": "BH1A_Mgi6i4G"
      },
      "outputs": [
        {
          "name": "stderr",
          "output_type": "stream",
          "text": [
            "test_count_bits (__main__.TestCountOnesFunction) ... ok\n",
            "test_all_vowels (__main__.TestCountVowels) ... ok\n",
            "test_empty_string (__main__.TestCountVowels) ... ok\n",
            "test_mixed_case (__main__.TestCountVowels) ... ok\n",
            "test_mixed_letters (__main__.TestCountVowels) ... ok\n",
            "test_no_vowels (__main__.TestCountVowels) ... ok\n",
            "test_uppercase_consonants (__main__.TestCountVowels) ... ok\n",
            "test_empty_string (__main__.TestIsUniqueFunction) ... ok\n",
            "test_non_unique_string (__main__.TestIsUniqueFunction) ... ok\n",
            "test_single_char (__main__.TestIsUniqueFunction) ... ok\n",
            "test_string_with_repeating_spaces (__main__.TestIsUniqueFunction) ... ok\n",
            "test_string_with_spaces (__main__.TestIsUniqueFunction) ... ok\n",
            "test_unique_string (__main__.TestIsUniqueFunction) ... ok\n",
            "test_magic (__main__.TestMagicFunction) ... ok\n",
            "\n",
            "----------------------------------------------------------------------\n",
            "Ran 14 tests in 0.015s\n",
            "\n",
            "OK\n"
          ]
        },
        {
          "data": {
            "text/plain": [
              "<unittest.main.TestProgram at 0x14f4ad9dc60>"
            ]
          },
          "execution_count": 31,
          "metadata": {},
          "output_type": "execute_result"
        }
      ],
      "source": [
        "import unittest\n",
        "\n",
        "def magic(n: int) -> int:\n",
        "    if n < 10:\n",
        "        return 0\n",
        "    count = 0\n",
        "\n",
        "    while n >= 10:\n",
        "        product = 1  # Инициализация произведения\n",
        "        while n > 0:\n",
        "            product *= n % 10  # Умножаем последнюю цифру\n",
        "            n //= 10  # Убираем последнюю цифру\n",
        "        n = product  # Обновляем n на произведение цифр\n",
        "        count += 1  # Увеличиваем счётчик перемножений\n",
        "\n",
        "    return count\n",
        "\n",
        "class TestMagicFunction(unittest.TestCase):\n",
        "    \n",
        "    def test_magic(self):\n",
        "        self.assertEqual(magic(39), 3)    # 3 * 9 = 27 => 2 * 7 = 14 => 1 * 4 = 4 (3 перемножения)\n",
        "        self.assertEqual(magic(4), 0)     # Число 4 уже состоит из одной цифры (0 перемножений)\n",
        "        self.assertEqual(magic(999), 4)   # 9 * 9 * 9 = 729 => 7 * 2 * 9 = 126 => 1 * 2 * 6 = 12 => 1 * 2 = 2 (4 перемножения)\n",
        "        self.assertEqual(magic(123), 1)   # 1 * 2 * 3 = 6 => 6 (1 перемножения)\n",
        "        self.assertEqual(magic(10), 1)    # 1 * 0 = 0 (1 перемножение)\n",
        "        self.assertEqual(magic(56), 2)    # 5 * 6 = 30 => 3 * 0 = 0 (2 перемножение)\n",
        "\n",
        "unittest.main(argv=[''], verbosity=2, exit=False)"
      ]
    },
    {
      "cell_type": "markdown",
      "metadata": {
        "id": "0nS-kIa8g8vd"
      },
      "source": [
        "# Задача 5\n",
        "Написать функцию, которая принимает два целочисленных вектора одинаковой длины и\n",
        "возвращает среднеквадратическое отклонение двух векторов. Написать тесты для кода"
      ]
    },
    {
      "cell_type": "code",
      "execution_count": 61,
      "metadata": {
        "id": "8iphx4LM6xbx"
      },
      "outputs": [
        {
          "name": "stderr",
          "output_type": "stream",
          "text": [
            "test_count_bits (__main__.TestCountOnesFunction) ... ok\n",
            "test_all_vowels (__main__.TestCountVowels) ... ok\n",
            "test_empty_string (__main__.TestCountVowels) ... ok\n",
            "test_mixed_case (__main__.TestCountVowels) ... ok\n",
            "test_mixed_letters (__main__.TestCountVowels) ... ok\n",
            "test_no_vowels (__main__.TestCountVowels) ... ok\n",
            "test_uppercase_consonants (__main__.TestCountVowels) ... ok\n",
            "test_is_balanced (__main__.TestIsBalanced) ... ok\n",
            "test_empty_string (__main__.TestIsUniqueFunction) ... ok\n",
            "test_non_unique_string (__main__.TestIsUniqueFunction) ... ok\n",
            "test_single_char (__main__.TestIsUniqueFunction) ... ok\n",
            "test_string_with_repeating_spaces (__main__.TestIsUniqueFunction) ... ok\n",
            "test_string_with_spaces (__main__.TestIsUniqueFunction) ... ok\n",
            "test_unique_string (__main__.TestIsUniqueFunction) ... ok\n",
            "test_mse (__main__.TestMSEFunction) ... ok\n",
            "test_mse_different_length (__main__.TestMSEFunction) ... ok\n",
            "test_magic (__main__.TestMagicFunction) ... ok\n",
            "test_prime_factorization (__main__.TestPrimeFactorization) ... ok\n",
            "test_pyramid (__main__.TestPyramidFunction) ... ok\n",
            "\n",
            "----------------------------------------------------------------------\n",
            "Ran 19 tests in 0.017s\n",
            "\n",
            "OK\n"
          ]
        },
        {
          "data": {
            "text/plain": [
              "<unittest.main.TestProgram at 0x14f4ae76470>"
            ]
          },
          "execution_count": 61,
          "metadata": {},
          "output_type": "execute_result"
        }
      ],
      "source": [
        "import unittest\n",
        "\n",
        "def mse(vec1, vec2):\n",
        "    if len(vec1) != len(vec2):\n",
        "        raise ValueError(\"Длина векторов должна быть одинаковой\")  # Проверка длины векторов\n",
        "\n",
        "    # Вычисляем среднеквадратическое отклонение\n",
        "    error_sum = sum((p - t) ** 2 for p, t in zip(vec1, vec2))  # Сумма квадратов ошибок\n",
        "    mean_error = error_sum / len(vec1)  # Среднее значение\n",
        "    return mean_error ** 0.5  # Возвращаем квадратный корень из среднего значения\n",
        "\n",
        "class TestMSEFunction(unittest.TestCase):\n",
        "    \n",
        "    def test_mse(self):\n",
        "        self.assertAlmostEqual(mse([1, 2, 3], [1, 2, 3]), 0.0)         # Вектора идентичны, отклонение 0.0\n",
        "        self.assertAlmostEqual(mse([1, 2, 3], [4, 5, 6]), 3.0)  # Отклонение между [1,2,3] и [4,5,6]: √((3^2 + 3^2 + 3^2) / 3) = √(9) = 3.0\n",
        "        self.assertAlmostEqual(mse([0, 0, 0], [0, 0, 0]), 0.0)         # Нулевые вектора, отклонение 0.0\n",
        "        self.assertAlmostEqual(mse([1, -1], [-1, 1]), 2.0)      # Отклонение между [1, -1] и [-1, 1]: √(((2^2) + (2^2)) / 2) = √(4) = 2.0\n",
        "        self.assertAlmostEqual(mse([10, 20, 30], [10, 25, 35]), 4.0824829)   # Отклонение между [10,20,30] и [10,25,35]: √(((0^2) + (5^2) + (5^2)) / 3) = √(16.6667) ≈ 4.0824829\n",
        "        \n",
        "    def test_mse_different_length(self):\n",
        "        # Проверка на исключение при разных длинах\n",
        "        with self.assertRaises(ValueError):\n",
        "            mse([1, 2, 3], [1, 2])  # Длина векторов не совпадает\n",
        "\n",
        "unittest.main(argv=[''], verbosity=2, exit=False)"
      ]
    },
    {
      "cell_type": "markdown",
      "metadata": {
        "id": "vpIPKL439zkw"
      },
      "source": [
        "# Задача 6\n",
        "Написать функцию, принимающая целое положительное число. Функция должна вернуть\n",
        "строку вида “(n1**p1)(n2**p2)…(nk**pk)” представляющая разложение числа на простые\n",
        "множители (если pi == 1, то выводить только ni).\n",
        "Например, для числа 86240 функция должна вернуть “(2**5)(5)(7**2)(11)”. Написать тесты для кода"
      ]
    },
    {
      "cell_type": "code",
      "execution_count": 54,
      "metadata": {
        "id": "pFebmcZk94Jw"
      },
      "outputs": [
        {
          "name": "stderr",
          "output_type": "stream",
          "text": [
            "test_count_bits (__main__.TestCountOnesFunction) ... ok\n",
            "test_all_vowels (__main__.TestCountVowels) ... ok\n",
            "test_empty_string (__main__.TestCountVowels) ... ok\n",
            "test_mixed_case (__main__.TestCountVowels) ... ok\n",
            "test_mixed_letters (__main__.TestCountVowels) ... ok\n",
            "test_no_vowels (__main__.TestCountVowels) ... ok\n",
            "test_uppercase_consonants (__main__.TestCountVowels) ... ok\n",
            "test_empty_string (__main__.TestIsUniqueFunction) ... ok\n",
            "test_non_unique_string (__main__.TestIsUniqueFunction) ... ok\n",
            "test_single_char (__main__.TestIsUniqueFunction) ... ok\n",
            "test_string_with_repeating_spaces (__main__.TestIsUniqueFunction) ... ok\n",
            "test_string_with_spaces (__main__.TestIsUniqueFunction) ... ok\n",
            "test_unique_string (__main__.TestIsUniqueFunction) ... ok\n",
            "test_mse (__main__.TestMSEFunction) ... FAIL\n",
            "test_mse_different_length (__main__.TestMSEFunction) ... ok\n",
            "test_magic (__main__.TestMagicFunction) ... ok\n",
            "test_prime_factorization (__main__.TestPrimeFactorization) ... ok\n",
            "test_pyramid (__main__.TestPyramidFunction) ... FAIL\n",
            "\n",
            "======================================================================\n",
            "FAIL: test_mse (__main__.TestMSEFunction)\n",
            "----------------------------------------------------------------------\n",
            "Traceback (most recent call last):\n",
            "  File \"C:\\Users\\Ашот\\AppData\\Local\\Temp\\ipykernel_9368\\2117053637.py\", line 16, in test_mse\n",
            "    self.assertAlmostEqual(mse([1, 2, 3], [4, 5, 6]), 3.464101615)  # Отклонение между [1,2,3] и [4,5,6]\n",
            "AssertionError: 3.0 != 3.464101615 within 7 places (0.46410161500000013 difference)\n",
            "\n",
            "======================================================================\n",
            "FAIL: test_pyramid (__main__.TestPyramidFunction)\n",
            "----------------------------------------------------------------------\n",
            "Traceback (most recent call last):\n",
            "  File \"C:\\Users\\Ашот\\AppData\\Local\\Temp\\ipykernel_9368\\3793049046.py\", line 25, in test_pyramid\n",
            "    self.assertEqual(pyramid(5), \"It is impossible\")       # 1^2 = 1, 2^2 = 4, 1+4=5, но k=2\n",
            "AssertionError: 2 != 'It is impossible'\n",
            "\n",
            "----------------------------------------------------------------------\n",
            "Ran 18 tests in 0.017s\n",
            "\n",
            "FAILED (failures=2)\n"
          ]
        },
        {
          "data": {
            "text/plain": [
              "<unittest.main.TestProgram at 0x14f4aeabaf0>"
            ]
          },
          "execution_count": 54,
          "metadata": {},
          "output_type": "execute_result"
        }
      ],
      "source": [
        "import unittest\n",
        "\n",
        "def prime_factorization(n: int) -> str:\n",
        "    if n <= 1:\n",
        "        return \"\"  # Для чисел <= 1 разложение не имеет смысла\n",
        "\n",
        "    factors = {}  # Словарь для хранения простых множителей и их степеней\n",
        "    divisor = 2  # Начинаем с первого простого числа\n",
        "\n",
        "    while n > 1:\n",
        "        while n % divisor == 0:  # Пока число делится на текущий делитель\n",
        "            if divisor in factors:\n",
        "                factors[divisor] += 1  # Увеличиваем степень\n",
        "            else:\n",
        "                factors[divisor] = 1  # Инициализируем степень\n",
        "            n //= divisor  # Делим число на делитель\n",
        "        divisor += 1  # Переходим к следующему числу\n",
        "\n",
        "    # Формируем строку результата\n",
        "    result = \"\"\n",
        "    for base, exponent in factors.items():\n",
        "        if exponent == 1:\n",
        "            result += f\"({base})\"  # Если степень 1, добавляем только базу\n",
        "        else:\n",
        "            result += f\"({base}**{exponent})\"  # Если степень больше 1, добавляем базу и степень\n",
        "\n",
        "    return result  # Возвращаем итоговую строку\n",
        "\n",
        "class TestPrimeFactorization(unittest.TestCase):\n",
        "    \n",
        "    def test_prime_factorization(self):\n",
        "        self.assertEqual(prime_factorization(86240), \"(2**5)(5)(7**2)(11)\")  # Пример из задания\n",
        "        self.assertEqual(prime_factorization(1), \"\")                        # Для 1 результат пустая строка\n",
        "        self.assertEqual(prime_factorization(2), \"(2)\")                     # Для 2 результат \"(2)\"\n",
        "        self.assertEqual(prime_factorization(30), \"(2)(3)(5)\")             # Для 30: 2 * 3 * 5\n",
        "        self.assertEqual(prime_factorization(60), \"(2**2)(3)(5)\")          # Для 60: 2^2 * 3 * 5\n",
        "        self.assertEqual(prime_factorization(100), \"(2**2)(5**2)\")         # Для 100: 2^2 * 5^2\n",
        "        self.assertEqual(prime_factorization(105), \"(3)(5)(7)\")            # Для 105: 3 * 5 * 7\n",
        "\n",
        "unittest.main(argv=[''], verbosity=2, exit=False)\n"
      ]
    },
    {
      "cell_type": "markdown",
      "metadata": {
        "id": "ps2s0BudX7A2"
      },
      "source": [
        "# Задача 7\n",
        "Написать функцию, принимающая целое число n, задающее количество кубиков. Функция\n",
        "должна определить, можно ли из данного кол-ва кубиков построить пирамиду, то есть\n",
        "можно ли представить число n как 1^2+2^2+3^2+…+k^2. Если можно, то функция должна\n",
        "вернуть k, иначе строку “It is impossible”. Написать тесты для кода"
      ]
    },
    {
      "cell_type": "code",
      "execution_count": 58,
      "metadata": {
        "id": "3YPjEXxhX_YT"
      },
      "outputs": [
        {
          "name": "stderr",
          "output_type": "stream",
          "text": [
            "test_count_bits (__main__.TestCountOnesFunction) ... ok\n",
            "test_all_vowels (__main__.TestCountVowels) ... ok\n",
            "test_empty_string (__main__.TestCountVowels) ... ok\n",
            "test_mixed_case (__main__.TestCountVowels) ... ok\n",
            "test_mixed_letters (__main__.TestCountVowels) ... ok\n",
            "test_no_vowels (__main__.TestCountVowels) ... ok\n",
            "test_uppercase_consonants (__main__.TestCountVowels) ... ok\n",
            "test_is_balanced (__main__.TestIsBalanced) ... ok\n",
            "test_empty_string (__main__.TestIsUniqueFunction) ... ok\n",
            "test_non_unique_string (__main__.TestIsUniqueFunction) ... ok\n",
            "test_single_char (__main__.TestIsUniqueFunction) ... ok\n",
            "test_string_with_repeating_spaces (__main__.TestIsUniqueFunction) ... ok\n",
            "test_string_with_spaces (__main__.TestIsUniqueFunction) ... ok\n",
            "test_unique_string (__main__.TestIsUniqueFunction) ... ok\n",
            "test_mse (__main__.TestMSEFunction) ... ok\n",
            "test_mse_different_length (__main__.TestMSEFunction) ... ok\n",
            "test_magic (__main__.TestMagicFunction) ... ok\n",
            "test_prime_factorization (__main__.TestPrimeFactorization) ... ok\n",
            "test_pyramid (__main__.TestPyramidFunction) ... ok\n",
            "\n",
            "----------------------------------------------------------------------\n",
            "Ran 19 tests in 0.020s\n",
            "\n",
            "OK\n"
          ]
        },
        {
          "data": {
            "text/plain": [
              "<unittest.main.TestProgram at 0x14f4ae75450>"
            ]
          },
          "execution_count": 58,
          "metadata": {},
          "output_type": "execute_result"
        }
      ],
      "source": [
        "import unittest\n",
        "\n",
        "def pyramid(n: int):\n",
        "\n",
        "    if n < 1:\n",
        "        return \"It is impossible\"  # Если n меньше 1, построить пирамиду невозможно\n",
        "\n",
        "    k = 0\n",
        "    total = 0\n",
        "\n",
        "    # Вычисляем сумму квадратов до тех пор, пока она не превысит n\n",
        "    while total < n:\n",
        "        k += 1\n",
        "        total += k ** 2  # Добавляем квадрат текущего числа k\n",
        "\n",
        "    \n",
        "    if total == n:\n",
        "        return k \n",
        "    else: \n",
        "        return \"It is impossible\"\n",
        "\n",
        "class TestPyramidFunction(unittest.TestCase):\n",
        "    \n",
        "    def test_pyramid(self):\n",
        "        self.assertEqual(pyramid(5), 2)                        # 1^2 = 1, 2^2 = 4, 1+4=5, но k=2\n",
        "        self.assertEqual(pyramid(14), 3)                       # 1^2 + 2^2 + 3^2 = 14, k=3\n",
        "        self.assertEqual(pyramid(30), 4)                       # 1^2 + 2^2 + 3^2 + 4^2 = 30, k=4\n",
        "        self.assertEqual(pyramid(55), 5)                       # 1^2 + 2^2 + 3^2 + 4^2 + 5^2 = 55, k=5\n",
        "        self.assertEqual(pyramid(1), 1)                        # 1^2 = 1, k=1\n",
        "        self.assertEqual(pyramid(0), \"It is impossible\")       # 0 кубиков невозможно\n",
        "        self.assertEqual(pyramid(1), 1)                        # 1 кубик = 1^2\n",
        "\n",
        "unittest.main(argv=[''], verbosity=2, exit=False)\n",
        "\n"
      ]
    },
    {
      "cell_type": "markdown",
      "metadata": {
        "id": "KeKgmIdAQMEJ"
      },
      "source": [
        "# Задача 8\n",
        "Функция принимает на вход положительное число и определяет является ли оно сбалансированным, т.е. сумма цифр до средних равна сумме цифр после. Средними в случае нечетного числа цифр считать одну цифру, в случае четного - две средних. Написать тесты для кода"
      ]
    },
    {
      "cell_type": "code",
      "execution_count": 59,
      "metadata": {
        "id": "gMAAqtqlQrZt"
      },
      "outputs": [
        {
          "name": "stderr",
          "output_type": "stream",
          "text": [
            "test_count_bits (__main__.TestCountOnesFunction) ... ok\n",
            "test_all_vowels (__main__.TestCountVowels) ... ok\n",
            "test_empty_string (__main__.TestCountVowels) ... ok\n",
            "test_mixed_case (__main__.TestCountVowels) ... ok\n",
            "test_mixed_letters (__main__.TestCountVowels) ... ok\n",
            "test_no_vowels (__main__.TestCountVowels) ... ok\n",
            "test_uppercase_consonants (__main__.TestCountVowels) ... ok\n",
            "test_is_balanced (__main__.TestIsBalanced) ... ok\n",
            "test_empty_string (__main__.TestIsUniqueFunction) ... ok\n",
            "test_non_unique_string (__main__.TestIsUniqueFunction) ... ok\n",
            "test_single_char (__main__.TestIsUniqueFunction) ... ok\n",
            "test_string_with_repeating_spaces (__main__.TestIsUniqueFunction) ... ok\n",
            "test_string_with_spaces (__main__.TestIsUniqueFunction) ... ok\n",
            "test_unique_string (__main__.TestIsUniqueFunction) ... ok\n",
            "test_mse (__main__.TestMSEFunction) ... ok\n",
            "test_mse_different_length (__main__.TestMSEFunction) ... ok\n",
            "test_magic (__main__.TestMagicFunction) ... ok\n",
            "test_prime_factorization (__main__.TestPrimeFactorization) ... ok\n",
            "test_pyramid (__main__.TestPyramidFunction) ... ok\n",
            "\n",
            "----------------------------------------------------------------------\n",
            "Ran 19 tests in 0.018s\n",
            "\n",
            "OK\n"
          ]
        },
        {
          "data": {
            "text/plain": [
              "<unittest.main.TestProgram at 0x14f49d97220>"
            ]
          },
          "execution_count": 59,
          "metadata": {},
          "output_type": "execute_result"
        }
      ],
      "source": [
        "import unittest\n",
        "\n",
        "\n",
        "def is_balanced(n: int) -> bool:\n",
        "    digits = [int(d) for d in str(n)]  # Преобразуем число в список его цифр\n",
        "    length = len(digits)  # Определяем количество цифр\n",
        "\n",
        "    if length < 2:\n",
        "        return True  # Если одна цифра, считаем сбалансированным\n",
        "\n",
        "    # Находим индексы средних цифр\n",
        "    if length % 2 == 0:  # Четное количество цифр\n",
        "        mid1, mid2 = length // 2 - 1, length // 2\n",
        "        left_sum = sum(digits[:mid1 + 1])  # Сумма до средних\n",
        "        right_sum = sum(digits[mid2:])     # Сумма после средних\n",
        "    else:  # Нечетное количество цифр\n",
        "        mid = length // 2\n",
        "        left_sum = sum(digits[:mid])       # Сумма до средней\n",
        "        right_sum = sum(digits[mid + 1:])  # Сумма после средней\n",
        "\n",
        "    return left_sum == right_sum  # Проверяем на равенство\n",
        "\n",
        "class TestIsBalanced(unittest.TestCase):\n",
        "    \n",
        "    def test_is_balanced(self):\n",
        "        self.assertTrue(is_balanced(123321))     # 1+2=3, 3+2=3\n",
        "        self.assertFalse(is_balanced(123456))    # 1+2+3 != 4+5+6\n",
        "        self.assertTrue(is_balanced(12321))      # 1+2 = 3, 3 = 3\n",
        "        self.assertTrue(is_balanced(1))          # Одна цифра, сбалансированное\n",
        "        self.assertTrue(is_balanced(0))          # Одна цифра, сбалансированное\n",
        "        self.assertFalse(is_balanced(1233210))   # 1+2+3 != 3+2+1\n",
        "        self.assertTrue(is_balanced(989))        # 9 = 8+9 = 8\n",
        "\n",
        "unittest.main(argv=[''], verbosity=2, exit=False)\n"
      ]
    }
  ],
  "metadata": {
    "colab": {
      "provenance": []
    },
    "kernelspec": {
      "display_name": "Python 3",
      "name": "python3"
    },
    "language_info": {
      "codemirror_mode": {
        "name": "ipython",
        "version": 3
      },
      "file_extension": ".py",
      "mimetype": "text/x-python",
      "name": "python",
      "nbconvert_exporter": "python",
      "pygments_lexer": "ipython3",
      "version": "3.10.4"
    }
  },
  "nbformat": 4,
  "nbformat_minor": 0
}
